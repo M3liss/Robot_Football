{
  "nbformat": 4,
  "nbformat_minor": 0,
  "metadata": {
    "colab": {
      "provenance": [],
      "authorship_tag": "ABX9TyOauOMcbOjaERTCTrKy+mKx",
      "include_colab_link": true
    },
    "kernelspec": {
      "name": "python3",
      "display_name": "Python 3"
    },
    "language_info": {
      "name": "python"
    }
  },
  "cells": [
    {
      "cell_type": "markdown",
      "metadata": {
        "id": "view-in-github",
        "colab_type": "text"
      },
      "source": [
        "<a href=\"https://colab.research.google.com/github/M3liss/Robot_Football/blob/main/run_train.ipynb\" target=\"_parent\"><img src=\"https://colab.research.google.com/assets/colab-badge.svg\" alt=\"Open In Colab\"/></a>"
      ]
    },
    {
      "cell_type": "markdown",
      "source": [
        "# Requirements\n",
        "\n",
        "There are a few requirements that need to be fulfilled before the the actual testing can start. Please make sure beforehand that you have added the repository to your google drive to save the different weights and models to your own directory.\n",
        "\n",
        "1. Change the resources to GPU for better training.\n",
        "2. Run the first cell to Install all requirements and git init to create an empty repository."
      ],
      "metadata": {
        "id": "3Tb6V8HZacPx"
      }
    },
    {
      "cell_type": "code",
      "execution_count": null,
      "metadata": {
        "id": "uo-fOjy-aSVq"
      },
      "outputs": [],
      "source": [
        "! git clone https://github.com/WongKinYiu/yolov7.git\n",
        "!pip install -r /content/yolov7/requirements.txt\n",
        "! git init"
      ]
    },
    {
      "cell_type": "code",
      "source": [
        "# move into your google drive yolov7 directory\n",
        "%cd YOUR_PATH\n",
        "%pwd"
      ],
      "metadata": {
        "id": "GWrSd9TcavAI"
      },
      "execution_count": null,
      "outputs": []
    },
    {
      "cell_type": "markdown",
      "source": [
        "3. Make sure that you move all the train and test data into /val and /train folders. Add your images and the images from Melissa Mazura from GitHub.\n",
        "4. Create a cfg/training/yolov7.yaml file. This file has can be templated from cfg/training/yolov7.yaml. It needs to have the correct number of classes, the correct labels and the correct folders for train and val.\n",
        "5. Add the images to test and val folders that you specified beforehand. If you have run the algorithm before and changed these folders, delete the cache folder. \n",
        "\n",
        "Make sure all of these steps are done before starting."
      ],
      "metadata": {
        "id": "A5cHqm9wbzlz"
      }
    },
    {
      "cell_type": "markdown",
      "source": [
        "# Training\n",
        "\n",
        "The process of training can be individualised and changed. For this project, there are _ different trainings that were implemented.\n",
        "How to train:\n",
        "1. If you have changed the cfg/training/yolov7.yaml file, you are ready to start training! Run the next cell, you can also change it to your liking.\n",
        "2. Wow, you have sucessfully trained your new models. To see how they did, simply go to runs/train/custom_det/result.png. The weight that will be used onward is saved in runs/train/custom_det/bestpt. \n"
      ],
      "metadata": {
        "id": "NzLCF5tpcbep"
      }
    },
    {
      "cell_type": "code",
      "source": [
        "!python train.py --workers 8 --device 0 --batch-size 10 --epochs 100 --img 640 640 --hyp data/hyp.scratch.custom.yaml --name custom_det --weights '' --cfg cfg/training/yolov7.yaml"
      ],
      "metadata": {
        "id": "9FCNdmYMcC80"
      },
      "execution_count": null,
      "outputs": []
    },
    {
      "cell_type": "markdown",
      "source": [
        "# Testing\n",
        "\n",
        "The testing part is mostly to test the algorithm on existing images and videos. Create your own or use the images and videos provided in /test_img.\n",
        "\n",
        "1. Run the detect.py file with your custom weights. This will then save a file in /deploy for you to inspect.\n",
        "2. You can add your own images and videos. Just change the source in the next line.\n"
      ],
      "metadata": {
        "id": "wGjZmxbYdp7i"
      }
    },
    {
      "cell_type": "code",
      "source": [
        "!python detect.py --weights runs/train/custom_det/weights/best.pt --conf 0.5 --img-size 320 --source \"test_img/test1.jpg\" --no-trace --view-img True"
      ],
      "metadata": {
        "id": "mtvdhlyLdqNt"
      },
      "execution_count": null,
      "outputs": []
    }
  ]
}