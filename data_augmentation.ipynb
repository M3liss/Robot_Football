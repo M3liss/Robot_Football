{
  "nbformat": 4,
  "nbformat_minor": 0,
  "metadata": {
    "colab": {
      "provenance": [],
      "mount_file_id": "1I59onNHYZ11JmypJTFWVdX4MLkVCLg5E",
      "authorship_tag": "ABX9TyMBMrQGSB/X9xshG9F7Z9Jr",
      "include_colab_link": true
    },
    "kernelspec": {
      "name": "python3",
      "display_name": "Python 3"
    },
    "language_info": {
      "name": "python"
    }
  },
  "cells": [
    {
      "cell_type": "markdown",
      "metadata": {
        "id": "view-in-github",
        "colab_type": "text"
      },
      "source": [
        "<a href=\"https://colab.research.google.com/github/M3liss/Robot_Football/blob/main/data_augmentation.ipynb\" target=\"_parent\"><img src=\"https://colab.research.google.com/assets/colab-badge.svg\" alt=\"Open In Colab\"/></a>"
      ]
    },
    {
      "cell_type": "markdown",
      "source": [
        "# Data Augmentation"
      ],
      "metadata": {
        "id": "yyW4SyDT6GK2"
      }
    },
    {
      "cell_type": "markdown",
      "source": [
        "Import all requirements for data augmentation."
      ],
      "metadata": {
        "id": "mRzyKa2k6Lky"
      }
    },
    {
      "cell_type": "code",
      "execution_count": null,
      "metadata": {
        "id": "bsBziVi_ilKE"
      },
      "outputs": [],
      "source": [
        "import matplotlib.pyplot as plt\n",
        "import numpy as np\n",
        "import tensorflow as tf\n",
        "import xml.etree.cElementTree as et\n",
        "import PIL\n",
        "import os\n",
        "import random"
      ]
    },
    {
      "cell_type": "code",
      "source": [
        "# move into directory\n",
        "%cd /content/drive/MyDrive/BA/yolov7-main/data\n",
        "%pwd"
      ],
      "metadata": {
        "colab": {
          "base_uri": "https://localhost:8080/",
          "height": 52
        },
        "id": "XZZrBQi6ULiK",
        "outputId": "6b593663-d370-4377-fb27-98ebefaa9f20"
      },
      "execution_count": null,
      "outputs": [
        {
          "output_type": "stream",
          "name": "stdout",
          "text": [
            "/content/drive/MyDrive/BA/yolov7-main/data\n"
          ]
        },
        {
          "output_type": "execute_result",
          "data": {
            "text/plain": [
              "'/content/drive/MyDrive/BA/yolov7-main/data'"
            ],
            "application/vnd.google.colaboratory.intrinsic+json": {
              "type": "string"
            }
          },
          "metadata": {},
          "execution_count": 2
        }
      ]
    },
    {
      "cell_type": "markdown",
      "source": [
        "Horizontal flipping flips the image horizontally and stores the image in the augmentation folder. The .txt file that is used for the annotation needs to be modified as well by subtracting the x_center value from 1. "
      ],
      "metadata": {
        "id": "XCTPXD9D3Izo"
      }
    },
    {
      "cell_type": "code",
      "source": [
        "#HORIZONTAL FLIPPING\n",
        "def hor_flip(img, anno):\n",
        "    global AUG_PATH\n",
        "    new_name = img.split('/')[-1]\n",
        "    new_name = f\"{AUG_PATH}/fli_{new_name}\"\n",
        "    new_img = tf.io.read_file(img)\n",
        "    new_img = tf.image.decode_jpeg(new_img, channels=3)\n",
        "    new_img = tf.image.flip_left_right(new_img)\n",
        "    lol = tf.io.encode_jpeg(new_img)\n",
        "    tf.io.write_file(new_name, lol)\n",
        "    with open(anno, \"r\") as f:\n",
        "      all = f.readlines()\n",
        "      f.close\n",
        "    with open(new_name.replace(\"jpg\", \"txt\"), \"w\") as f:\n",
        "      for i in range(len(all)):\n",
        "          all_values = all[i]\n",
        "          all_values = all_values.split(\" \")\n",
        "          x_center = all_values[1]\n",
        "          all_values[1] = str(1 - float(x_center))\n",
        "          all[i] = ' '.join(all_values)\n",
        "      f.writelines(all)\n",
        "      f.close"
      ],
      "metadata": {
        "id": "IIrNlvcxspcQ"
      },
      "execution_count": null,
      "outputs": []
    },
    {
      "cell_type": "markdown",
      "source": [
        "Rotation rotates the image and stores the image in the augmentation folder. The .txt file that is used for the annotation needs to be modified as well by subtracting their x_center and y_center value from 1. "
      ],
      "metadata": {
        "id": "e_xUDdSn3pb7"
      }
    },
    {
      "cell_type": "code",
      "source": [
        "#ROTATION\n",
        "def rotation(img, anno):\n",
        "    global AUG_PATH\n",
        "    new_name = img.split('/')[-1]\n",
        "    new_name = f\"{AUG_PATH}/rot_{new_name}\"\n",
        "    new_img = tf.io.read_file(img)\n",
        "    new_img = tf.image.decode_jpeg(new_img, channels=3)\n",
        "    new_img = tf.image.rot90(new_img, k=-2)\n",
        "    lol = tf.io.encode_jpeg(new_img)\n",
        "    tf.io.write_file(new_name, lol)\n",
        "    with open(anno, \"r\") as f:\n",
        "      all = f.readlines()\n",
        "      f.close\n",
        "    with open(new_name.replace(\"jpg\", \"txt\"), \"w\") as f:\n",
        "      for i in range(len(all)):\n",
        "          all_values = all[i]\n",
        "          all_values = all_values.split(\" \")\n",
        "          x_center = all_values[1]\n",
        "          y_center = all_values[2]\n",
        "          all_values[1] = str(1 - float(x_center))\n",
        "          all_values[2] = str(1 - float(y_center))\n",
        "          all[i] = ' '.join(all_values)\n",
        "      f.writelines(all)\n",
        "      f.close\n"
      ],
      "metadata": {
        "id": "RZflCfCHsu3h"
      },
      "execution_count": null,
      "outputs": []
    },
    {
      "cell_type": "markdown",
      "source": [
        "Specify the path for the images and the aug_path where the new images should be saved. \n",
        "\n",
        "Run this script once. The code prints out the operation and where the image and txt files are stored."
      ],
      "metadata": {
        "id": "6Xl5AHxv30a6"
      }
    },
    {
      "cell_type": "code",
      "source": [
        "from pathlib import Path\n",
        "PATH = \"\"\n",
        "AUG_PATH = \"\"\n",
        "\n",
        "files = Path(PATH).glob('*')\n",
        "rand_operation = [hor_flip, rotation]\n",
        "names = [\"hor_flip\", \"rotation\"]\n",
        "for file in files:\n",
        "    file = str(file)\n",
        "    anno_file = file.replace(\"jpg\", \"txt\")\n",
        "    if (file[-3] == \"j\"  and os.path.exists(anno_file)):\n",
        "        op = random.randint(0, len(rand_operation)-1)\n",
        "        rand_operation[op](file, anno_file)\n",
        "        print(f\"The operation {names[op]} was successfully performed on {file}\")"
      ],
      "metadata": {
        "id": "gPnQFCYwuoqm"
      },
      "execution_count": null,
      "outputs": []
    }
  ]
}